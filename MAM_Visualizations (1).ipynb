{
 "cells": [
  {
   "cell_type": "code",
   "execution_count": 1,
   "metadata": {},
   "outputs": [],
   "source": [
    "# Dependencies\n",
    "import pandas as pd\n",
    "import numpy as np\n",
    "import requests\n",
    "import json\n",
    "import matplotlib.pyplot as plt"
   ]
  },
  {
   "cell_type": "code",
   "execution_count": 2,
   "metadata": {},
   "outputs": [
    {
     "data": {
      "text/html": [
       "<div>\n",
       "<style scoped>\n",
       "    .dataframe tbody tr th:only-of-type {\n",
       "        vertical-align: middle;\n",
       "    }\n",
       "\n",
       "    .dataframe tbody tr th {\n",
       "        vertical-align: top;\n",
       "    }\n",
       "\n",
       "    .dataframe thead th {\n",
       "        text-align: right;\n",
       "    }\n",
       "</style>\n",
       "<table border=\"1\" class=\"dataframe\">\n",
       "  <thead>\n",
       "    <tr style=\"text-align: right;\">\n",
       "      <th></th>\n",
       "      <th>Unnamed: 0</th>\n",
       "      <th>Overall Rank (1=Best)</th>\n",
       "      <th>City</th>\n",
       "      <th>State</th>\n",
       "      <th>Total Score</th>\n",
       "      <th>Lat</th>\n",
       "      <th>Lng</th>\n",
       "      <th>DateUTC</th>\n",
       "      <th>Summary</th>\n",
       "      <th>Icon</th>\n",
       "      <th>Sunrise Time</th>\n",
       "      <th>Sunset Time</th>\n",
       "      <th>Cloud Cover</th>\n",
       "      <th>UV Index</th>\n",
       "    </tr>\n",
       "  </thead>\n",
       "  <tbody>\n",
       "    <tr>\n",
       "      <td>0</td>\n",
       "      <td>0</td>\n",
       "      <td>168</td>\n",
       "      <td>Akron</td>\n",
       "      <td>OH</td>\n",
       "      <td>44.05</td>\n",
       "      <td>41.081445</td>\n",
       "      <td>-81.519005</td>\n",
       "      <td>1514786400</td>\n",
       "      <td>Foggy throughout the day.</td>\n",
       "      <td>fog</td>\n",
       "      <td>1514811149</td>\n",
       "      <td>1514844561</td>\n",
       "      <td>0.66</td>\n",
       "      <td>1</td>\n",
       "    </tr>\n",
       "    <tr>\n",
       "      <td>1</td>\n",
       "      <td>1</td>\n",
       "      <td>168</td>\n",
       "      <td>Akron</td>\n",
       "      <td>OH</td>\n",
       "      <td>44.05</td>\n",
       "      <td>41.081445</td>\n",
       "      <td>-81.519005</td>\n",
       "      <td>1514872800</td>\n",
       "      <td>Foggy throughout the day.</td>\n",
       "      <td>fog</td>\n",
       "      <td>1514897553</td>\n",
       "      <td>1514931012</td>\n",
       "      <td>0.52</td>\n",
       "      <td>2</td>\n",
       "    </tr>\n",
       "    <tr>\n",
       "      <td>2</td>\n",
       "      <td>2</td>\n",
       "      <td>168</td>\n",
       "      <td>Akron</td>\n",
       "      <td>OH</td>\n",
       "      <td>44.05</td>\n",
       "      <td>41.081445</td>\n",
       "      <td>-81.519005</td>\n",
       "      <td>1514959200</td>\n",
       "      <td>Foggy throughout the day.</td>\n",
       "      <td>fog</td>\n",
       "      <td>1514983955</td>\n",
       "      <td>1515017464</td>\n",
       "      <td>0.59</td>\n",
       "      <td>1</td>\n",
       "    </tr>\n",
       "    <tr>\n",
       "      <td>3</td>\n",
       "      <td>3</td>\n",
       "      <td>168</td>\n",
       "      <td>Akron</td>\n",
       "      <td>OH</td>\n",
       "      <td>44.05</td>\n",
       "      <td>41.081445</td>\n",
       "      <td>-81.519005</td>\n",
       "      <td>1515045600</td>\n",
       "      <td>Foggy throughout the day.</td>\n",
       "      <td>fog</td>\n",
       "      <td>1515070354</td>\n",
       "      <td>1515103918</td>\n",
       "      <td>0.92</td>\n",
       "      <td>1</td>\n",
       "    </tr>\n",
       "    <tr>\n",
       "      <td>4</td>\n",
       "      <td>4</td>\n",
       "      <td>168</td>\n",
       "      <td>Akron</td>\n",
       "      <td>OH</td>\n",
       "      <td>44.05</td>\n",
       "      <td>41.081445</td>\n",
       "      <td>-81.519005</td>\n",
       "      <td>1515132000</td>\n",
       "      <td>Foggy throughout the day.</td>\n",
       "      <td>fog</td>\n",
       "      <td>1515156751</td>\n",
       "      <td>1515190373</td>\n",
       "      <td>0.31</td>\n",
       "      <td>2</td>\n",
       "    </tr>\n",
       "    <tr>\n",
       "      <td>...</td>\n",
       "      <td>...</td>\n",
       "      <td>...</td>\n",
       "      <td>...</td>\n",
       "      <td>...</td>\n",
       "      <td>...</td>\n",
       "      <td>...</td>\n",
       "      <td>...</td>\n",
       "      <td>...</td>\n",
       "      <td>...</td>\n",
       "      <td>...</td>\n",
       "      <td>...</td>\n",
       "      <td>...</td>\n",
       "      <td>...</td>\n",
       "      <td>...</td>\n",
       "    </tr>\n",
       "    <tr>\n",
       "      <td>95</td>\n",
       "      <td>35</td>\n",
       "      <td>168</td>\n",
       "      <td>Akron</td>\n",
       "      <td>OH</td>\n",
       "      <td>44.05</td>\n",
       "      <td>41.081445</td>\n",
       "      <td>-81.519005</td>\n",
       "      <td>1522990800</td>\n",
       "      <td>Snow until morning, starting again in the even...</td>\n",
       "      <td>snow</td>\n",
       "      <td>1523012510</td>\n",
       "      <td>1523059028</td>\n",
       "      <td>0.93</td>\n",
       "      <td>5</td>\n",
       "    </tr>\n",
       "    <tr>\n",
       "      <td>96</td>\n",
       "      <td>36</td>\n",
       "      <td>168</td>\n",
       "      <td>Akron</td>\n",
       "      <td>OH</td>\n",
       "      <td>44.05</td>\n",
       "      <td>41.081445</td>\n",
       "      <td>-81.519005</td>\n",
       "      <td>1523077200</td>\n",
       "      <td>Foggy throughout the day.</td>\n",
       "      <td>fog</td>\n",
       "      <td>1523098813</td>\n",
       "      <td>1523145491</td>\n",
       "      <td>0.64</td>\n",
       "      <td>6</td>\n",
       "    </tr>\n",
       "    <tr>\n",
       "      <td>97</td>\n",
       "      <td>37</td>\n",
       "      <td>168</td>\n",
       "      <td>Akron</td>\n",
       "      <td>OH</td>\n",
       "      <td>44.05</td>\n",
       "      <td>41.081445</td>\n",
       "      <td>-81.519005</td>\n",
       "      <td>1523163600</td>\n",
       "      <td>Foggy throughout the day.</td>\n",
       "      <td>fog</td>\n",
       "      <td>1523185115</td>\n",
       "      <td>1523231955</td>\n",
       "      <td>0.54</td>\n",
       "      <td>5</td>\n",
       "    </tr>\n",
       "    <tr>\n",
       "      <td>98</td>\n",
       "      <td>38</td>\n",
       "      <td>168</td>\n",
       "      <td>Akron</td>\n",
       "      <td>OH</td>\n",
       "      <td>44.05</td>\n",
       "      <td>41.081445</td>\n",
       "      <td>-81.519005</td>\n",
       "      <td>1523250000</td>\n",
       "      <td>Foggy throughout the day.</td>\n",
       "      <td>fog</td>\n",
       "      <td>1523271419</td>\n",
       "      <td>1523318418</td>\n",
       "      <td>0.81</td>\n",
       "      <td>4</td>\n",
       "    </tr>\n",
       "    <tr>\n",
       "      <td>99</td>\n",
       "      <td>39</td>\n",
       "      <td>168</td>\n",
       "      <td>Akron</td>\n",
       "      <td>OH</td>\n",
       "      <td>44.05</td>\n",
       "      <td>41.081445</td>\n",
       "      <td>-81.519005</td>\n",
       "      <td>1523336400</td>\n",
       "      <td>Foggy throughout the day.</td>\n",
       "      <td>fog</td>\n",
       "      <td>1523357722</td>\n",
       "      <td>1523404882</td>\n",
       "      <td>0.56</td>\n",
       "      <td>5</td>\n",
       "    </tr>\n",
       "  </tbody>\n",
       "</table>\n",
       "<p>100 rows × 14 columns</p>\n",
       "</div>"
      ],
      "text/plain": [
       "    Unnamed: 0  Overall Rank (1=Best)   City State  Total Score        Lat  \\\n",
       "0            0                    168  Akron    OH        44.05  41.081445   \n",
       "1            1                    168  Akron    OH        44.05  41.081445   \n",
       "2            2                    168  Akron    OH        44.05  41.081445   \n",
       "3            3                    168  Akron    OH        44.05  41.081445   \n",
       "4            4                    168  Akron    OH        44.05  41.081445   \n",
       "..         ...                    ...    ...   ...          ...        ...   \n",
       "95          35                    168  Akron    OH        44.05  41.081445   \n",
       "96          36                    168  Akron    OH        44.05  41.081445   \n",
       "97          37                    168  Akron    OH        44.05  41.081445   \n",
       "98          38                    168  Akron    OH        44.05  41.081445   \n",
       "99          39                    168  Akron    OH        44.05  41.081445   \n",
       "\n",
       "          Lng     DateUTC                                            Summary  \\\n",
       "0  -81.519005  1514786400                          Foggy throughout the day.   \n",
       "1  -81.519005  1514872800                          Foggy throughout the day.   \n",
       "2  -81.519005  1514959200                          Foggy throughout the day.   \n",
       "3  -81.519005  1515045600                          Foggy throughout the day.   \n",
       "4  -81.519005  1515132000                          Foggy throughout the day.   \n",
       "..        ...         ...                                                ...   \n",
       "95 -81.519005  1522990800  Snow until morning, starting again in the even...   \n",
       "96 -81.519005  1523077200                          Foggy throughout the day.   \n",
       "97 -81.519005  1523163600                          Foggy throughout the day.   \n",
       "98 -81.519005  1523250000                          Foggy throughout the day.   \n",
       "99 -81.519005  1523336400                          Foggy throughout the day.   \n",
       "\n",
       "    Icon  Sunrise Time  Sunset Time  Cloud Cover  UV Index  \n",
       "0    fog    1514811149   1514844561         0.66         1  \n",
       "1    fog    1514897553   1514931012         0.52         2  \n",
       "2    fog    1514983955   1515017464         0.59         1  \n",
       "3    fog    1515070354   1515103918         0.92         1  \n",
       "4    fog    1515156751   1515190373         0.31         2  \n",
       "..   ...           ...          ...          ...       ...  \n",
       "95  snow    1523012510   1523059028         0.93         5  \n",
       "96   fog    1523098813   1523145491         0.64         6  \n",
       "97   fog    1523185115   1523231955         0.54         5  \n",
       "98   fog    1523271419   1523318418         0.81         4  \n",
       "99   fog    1523357722   1523404882         0.56         5  \n",
       "\n",
       "[100 rows x 14 columns]"
      ]
     },
     "execution_count": 2,
     "metadata": {},
     "output_type": "execute_result"
    }
   ],
   "source": [
    "happiness_cities = pd.read_csv(\"Happiness_Cities_weather_2018_clean.csv\")\n",
    "happiness_cities.head(100)"
   ]
  },
  {
   "cell_type": "code",
   "execution_count": 3,
   "metadata": {},
   "outputs": [
    {
     "data": {
      "text/plain": [
       "Index(['Unnamed: 0', 'Overall Rank (1=Best)', 'City', 'State', 'Total Score',\n",
       "       'Lat', 'Lng', 'DateUTC', 'Summary', 'Icon', 'Sunrise Time',\n",
       "       'Sunset Time', 'Cloud Cover', 'UV Index'],\n",
       "      dtype='object')"
      ]
     },
     "execution_count": 3,
     "metadata": {},
     "output_type": "execute_result"
    }
   ],
   "source": [
    "happiness_cities.columns"
   ]
  },
  {
   "cell_type": "code",
   "execution_count": 4,
   "metadata": {},
   "outputs": [],
   "source": [
    "# reference multiple columns within a dataframe\n",
    "happiness_cities_clean = happiness_cities[[\"Overall Rank (1=Best)\",\"City\",\"State\", \"Total Score\", \"DateUTC\", \"Icon\", \"Cloud Cover\", \"UV Index\"]]"
   ]
  },
  {
   "cell_type": "code",
   "execution_count": 5,
   "metadata": {},
   "outputs": [
    {
     "data": {
      "text/html": [
       "<div>\n",
       "<style scoped>\n",
       "    .dataframe tbody tr th:only-of-type {\n",
       "        vertical-align: middle;\n",
       "    }\n",
       "\n",
       "    .dataframe tbody tr th {\n",
       "        vertical-align: top;\n",
       "    }\n",
       "\n",
       "    .dataframe thead th {\n",
       "        text-align: right;\n",
       "    }\n",
       "</style>\n",
       "<table border=\"1\" class=\"dataframe\">\n",
       "  <thead>\n",
       "    <tr style=\"text-align: right;\">\n",
       "      <th></th>\n",
       "      <th>Overall Rank (1=Best)</th>\n",
       "      <th>City</th>\n",
       "      <th>State</th>\n",
       "      <th>Total Score</th>\n",
       "      <th>DateUTC</th>\n",
       "      <th>Icon</th>\n",
       "      <th>Cloud Cover</th>\n",
       "      <th>UV Index</th>\n",
       "    </tr>\n",
       "  </thead>\n",
       "  <tbody>\n",
       "    <tr>\n",
       "      <td>0</td>\n",
       "      <td>168</td>\n",
       "      <td>Akron</td>\n",
       "      <td>OH</td>\n",
       "      <td>44.05</td>\n",
       "      <td>1514786400</td>\n",
       "      <td>fog</td>\n",
       "      <td>0.66</td>\n",
       "      <td>1</td>\n",
       "    </tr>\n",
       "    <tr>\n",
       "      <td>1</td>\n",
       "      <td>168</td>\n",
       "      <td>Akron</td>\n",
       "      <td>OH</td>\n",
       "      <td>44.05</td>\n",
       "      <td>1514872800</td>\n",
       "      <td>fog</td>\n",
       "      <td>0.52</td>\n",
       "      <td>2</td>\n",
       "    </tr>\n",
       "    <tr>\n",
       "      <td>2</td>\n",
       "      <td>168</td>\n",
       "      <td>Akron</td>\n",
       "      <td>OH</td>\n",
       "      <td>44.05</td>\n",
       "      <td>1514959200</td>\n",
       "      <td>fog</td>\n",
       "      <td>0.59</td>\n",
       "      <td>1</td>\n",
       "    </tr>\n",
       "    <tr>\n",
       "      <td>3</td>\n",
       "      <td>168</td>\n",
       "      <td>Akron</td>\n",
       "      <td>OH</td>\n",
       "      <td>44.05</td>\n",
       "      <td>1515045600</td>\n",
       "      <td>fog</td>\n",
       "      <td>0.92</td>\n",
       "      <td>1</td>\n",
       "    </tr>\n",
       "    <tr>\n",
       "      <td>4</td>\n",
       "      <td>168</td>\n",
       "      <td>Akron</td>\n",
       "      <td>OH</td>\n",
       "      <td>44.05</td>\n",
       "      <td>1515132000</td>\n",
       "      <td>fog</td>\n",
       "      <td>0.31</td>\n",
       "      <td>2</td>\n",
       "    </tr>\n",
       "  </tbody>\n",
       "</table>\n",
       "</div>"
      ],
      "text/plain": [
       "   Overall Rank (1=Best)   City State  Total Score     DateUTC Icon  \\\n",
       "0                    168  Akron    OH        44.05  1514786400  fog   \n",
       "1                    168  Akron    OH        44.05  1514872800  fog   \n",
       "2                    168  Akron    OH        44.05  1514959200  fog   \n",
       "3                    168  Akron    OH        44.05  1515045600  fog   \n",
       "4                    168  Akron    OH        44.05  1515132000  fog   \n",
       "\n",
       "   Cloud Cover  UV Index  \n",
       "0         0.66         1  \n",
       "1         0.52         2  \n",
       "2         0.59         1  \n",
       "3         0.92         1  \n",
       "4         0.31         2  "
      ]
     },
     "execution_count": 5,
     "metadata": {},
     "output_type": "execute_result"
    }
   ],
   "source": [
    "happiness_cities_df = pd.DataFrame(happiness_cities_clean)\n",
    "happiness_cities_df.head()"
   ]
  },
  {
   "cell_type": "code",
   "execution_count": 6,
   "metadata": {},
   "outputs": [
    {
     "data": {
      "text/html": [
       "<div>\n",
       "<style scoped>\n",
       "    .dataframe tbody tr th:only-of-type {\n",
       "        vertical-align: middle;\n",
       "    }\n",
       "\n",
       "    .dataframe tbody tr th {\n",
       "        vertical-align: top;\n",
       "    }\n",
       "\n",
       "    .dataframe thead th {\n",
       "        text-align: right;\n",
       "    }\n",
       "</style>\n",
       "<table border=\"1\" class=\"dataframe\">\n",
       "  <thead>\n",
       "    <tr style=\"text-align: right;\">\n",
       "      <th></th>\n",
       "      <th>Rank</th>\n",
       "      <th>City</th>\n",
       "      <th>State</th>\n",
       "      <th>Total_Score</th>\n",
       "      <th>DateUTC</th>\n",
       "      <th>Icon</th>\n",
       "      <th>Cloud_Cover</th>\n",
       "      <th>UV_Index</th>\n",
       "    </tr>\n",
       "  </thead>\n",
       "  <tbody>\n",
       "    <tr>\n",
       "      <td>0</td>\n",
       "      <td>168</td>\n",
       "      <td>Akron</td>\n",
       "      <td>OH</td>\n",
       "      <td>44.05</td>\n",
       "      <td>1514786400</td>\n",
       "      <td>fog</td>\n",
       "      <td>0.66</td>\n",
       "      <td>1</td>\n",
       "    </tr>\n",
       "    <tr>\n",
       "      <td>1</td>\n",
       "      <td>168</td>\n",
       "      <td>Akron</td>\n",
       "      <td>OH</td>\n",
       "      <td>44.05</td>\n",
       "      <td>1514872800</td>\n",
       "      <td>fog</td>\n",
       "      <td>0.52</td>\n",
       "      <td>2</td>\n",
       "    </tr>\n",
       "    <tr>\n",
       "      <td>2</td>\n",
       "      <td>168</td>\n",
       "      <td>Akron</td>\n",
       "      <td>OH</td>\n",
       "      <td>44.05</td>\n",
       "      <td>1514959200</td>\n",
       "      <td>fog</td>\n",
       "      <td>0.59</td>\n",
       "      <td>1</td>\n",
       "    </tr>\n",
       "    <tr>\n",
       "      <td>3</td>\n",
       "      <td>168</td>\n",
       "      <td>Akron</td>\n",
       "      <td>OH</td>\n",
       "      <td>44.05</td>\n",
       "      <td>1515045600</td>\n",
       "      <td>fog</td>\n",
       "      <td>0.92</td>\n",
       "      <td>1</td>\n",
       "    </tr>\n",
       "    <tr>\n",
       "      <td>4</td>\n",
       "      <td>168</td>\n",
       "      <td>Akron</td>\n",
       "      <td>OH</td>\n",
       "      <td>44.05</td>\n",
       "      <td>1515132000</td>\n",
       "      <td>fog</td>\n",
       "      <td>0.31</td>\n",
       "      <td>2</td>\n",
       "    </tr>\n",
       "  </tbody>\n",
       "</table>\n",
       "</div>"
      ],
      "text/plain": [
       "   Rank   City State  Total_Score     DateUTC Icon  Cloud_Cover  UV_Index\n",
       "0   168  Akron    OH        44.05  1514786400  fog         0.66         1\n",
       "1   168  Akron    OH        44.05  1514872800  fog         0.52         2\n",
       "2   168  Akron    OH        44.05  1514959200  fog         0.59         1\n",
       "3   168  Akron    OH        44.05  1515045600  fog         0.92         1\n",
       "4   168  Akron    OH        44.05  1515132000  fog         0.31         2"
      ]
     },
     "execution_count": 6,
     "metadata": {},
     "output_type": "execute_result"
    }
   ],
   "source": [
    "# Using .rename(columns={}) in order to rename columns\n",
    "happiness_cities_new = happiness_cities_df.rename(columns={\"Overall Rank (1=Best)\":\"Rank\", \"Total Score\":\"Total_Score\",\"Cloud Cover\":\"Cloud_Cover\",\"UV Index\":\"UV_Index\"})\n",
    "happiness_cities_new.head()"
   ]
  },
  {
   "cell_type": "code",
   "execution_count": 12,
   "metadata": {},
   "outputs": [
    {
     "data": {
      "text/html": [
       "<div>\n",
       "<style scoped>\n",
       "    .dataframe tbody tr th:only-of-type {\n",
       "        vertical-align: middle;\n",
       "    }\n",
       "\n",
       "    .dataframe tbody tr th {\n",
       "        vertical-align: top;\n",
       "    }\n",
       "\n",
       "    .dataframe thead th {\n",
       "        text-align: right;\n",
       "    }\n",
       "</style>\n",
       "<table border=\"1\" class=\"dataframe\">\n",
       "  <thead>\n",
       "    <tr style=\"text-align: right;\">\n",
       "      <th></th>\n",
       "      <th>Rank</th>\n",
       "      <th>City</th>\n",
       "      <th>State</th>\n",
       "      <th>Total_Score</th>\n",
       "      <th>DateUTC</th>\n",
       "      <th>Icon</th>\n",
       "      <th>Cloud_Cover</th>\n",
       "      <th>UV_Index</th>\n",
       "      <th>Month</th>\n",
       "    </tr>\n",
       "  </thead>\n",
       "  <tbody>\n",
       "    <tr>\n",
       "      <td>0</td>\n",
       "      <td>168</td>\n",
       "      <td>Akron</td>\n",
       "      <td>OH</td>\n",
       "      <td>44.05</td>\n",
       "      <td>1514786400</td>\n",
       "      <td>fog</td>\n",
       "      <td>0.66</td>\n",
       "      <td>1</td>\n",
       "      <td>01</td>\n",
       "    </tr>\n",
       "    <tr>\n",
       "      <td>1</td>\n",
       "      <td>168</td>\n",
       "      <td>Akron</td>\n",
       "      <td>OH</td>\n",
       "      <td>44.05</td>\n",
       "      <td>1514872800</td>\n",
       "      <td>fog</td>\n",
       "      <td>0.52</td>\n",
       "      <td>2</td>\n",
       "      <td>01</td>\n",
       "    </tr>\n",
       "    <tr>\n",
       "      <td>2</td>\n",
       "      <td>168</td>\n",
       "      <td>Akron</td>\n",
       "      <td>OH</td>\n",
       "      <td>44.05</td>\n",
       "      <td>1514959200</td>\n",
       "      <td>fog</td>\n",
       "      <td>0.59</td>\n",
       "      <td>1</td>\n",
       "      <td>01</td>\n",
       "    </tr>\n",
       "    <tr>\n",
       "      <td>3</td>\n",
       "      <td>168</td>\n",
       "      <td>Akron</td>\n",
       "      <td>OH</td>\n",
       "      <td>44.05</td>\n",
       "      <td>1515045600</td>\n",
       "      <td>fog</td>\n",
       "      <td>0.92</td>\n",
       "      <td>1</td>\n",
       "      <td>01</td>\n",
       "    </tr>\n",
       "    <tr>\n",
       "      <td>4</td>\n",
       "      <td>168</td>\n",
       "      <td>Akron</td>\n",
       "      <td>OH</td>\n",
       "      <td>44.05</td>\n",
       "      <td>1515132000</td>\n",
       "      <td>fog</td>\n",
       "      <td>0.31</td>\n",
       "      <td>2</td>\n",
       "      <td>01</td>\n",
       "    </tr>\n",
       "  </tbody>\n",
       "</table>\n",
       "</div>"
      ],
      "text/plain": [
       "   Rank   City State  Total_Score     DateUTC Icon  Cloud_Cover  UV_Index  \\\n",
       "0   168  Akron    OH        44.05  1514786400  fog         0.66         1   \n",
       "1   168  Akron    OH        44.05  1514872800  fog         0.52         2   \n",
       "2   168  Akron    OH        44.05  1514959200  fog         0.59         1   \n",
       "3   168  Akron    OH        44.05  1515045600  fog         0.92         1   \n",
       "4   168  Akron    OH        44.05  1515132000  fog         0.31         2   \n",
       "\n",
       "  Month  \n",
       "0    01  \n",
       "1    01  \n",
       "2    01  \n",
       "3    01  \n",
       "4    01  "
      ]
     },
     "execution_count": 12,
     "metadata": {},
     "output_type": "execute_result"
    }
   ],
   "source": [
    "import datetime\n",
    "dateUTC = []\n",
    "dateUTC_converted = []\n",
    "\n",
    "#append dateUTC to dateUTC list\n",
    "\n",
    "for index, row in happiness_cities_new.iterrows():\n",
    "    dateUTC.append(happiness_cities_new[\"DateUTC\"][index])\n",
    "    \n",
    "#convert dateUTC, and append datetime datatype to dateUTC_converted\n",
    "for unix_time in dateUTC:\n",
    "    utc_conversion = timestamp = datetime.datetime.fromtimestamp(unix_time)\n",
    "    formated_by_month = utc_conversion = timestamp.strftime('%m')\n",
    "    dateUTC_converted.append(formated_by_month)\n",
    "\n",
    "#append month column to DataFrame\n",
    "happiness_cities_new[\"Month\"] = dateUTC_converted\n",
    "happiness_cities_new.head()"
   ]
  },
  {
   "cell_type": "code",
   "execution_count": 82,
   "metadata": {},
   "outputs": [
    {
     "data": {
      "text/html": [
       "<div>\n",
       "<style scoped>\n",
       "    .dataframe tbody tr th:only-of-type {\n",
       "        vertical-align: middle;\n",
       "    }\n",
       "\n",
       "    .dataframe tbody tr th {\n",
       "        vertical-align: top;\n",
       "    }\n",
       "\n",
       "    .dataframe thead th {\n",
       "        text-align: right;\n",
       "    }\n",
       "</style>\n",
       "<table border=\"1\" class=\"dataframe\">\n",
       "  <thead>\n",
       "    <tr style=\"text-align: right;\">\n",
       "      <th></th>\n",
       "      <th>Month</th>\n",
       "      <th>Cloud_Cover</th>\n",
       "      <th>UV_Index</th>\n",
       "    </tr>\n",
       "  </thead>\n",
       "  <tbody>\n",
       "    <tr>\n",
       "      <td>0</td>\n",
       "      <td>01</td>\n",
       "      <td>0.369325</td>\n",
       "      <td>2.626181</td>\n",
       "    </tr>\n",
       "    <tr>\n",
       "      <td>1</td>\n",
       "      <td>02</td>\n",
       "      <td>0.373507</td>\n",
       "      <td>3.857355</td>\n",
       "    </tr>\n",
       "    <tr>\n",
       "      <td>2</td>\n",
       "      <td>03</td>\n",
       "      <td>0.428527</td>\n",
       "      <td>5.541892</td>\n",
       "    </tr>\n",
       "    <tr>\n",
       "      <td>3</td>\n",
       "      <td>04</td>\n",
       "      <td>0.322033</td>\n",
       "      <td>7.633242</td>\n",
       "    </tr>\n",
       "    <tr>\n",
       "      <td>4</td>\n",
       "      <td>05</td>\n",
       "      <td>0.408016</td>\n",
       "      <td>8.152174</td>\n",
       "    </tr>\n",
       "  </tbody>\n",
       "</table>\n",
       "</div>"
      ],
      "text/plain": [
       "  Month  Cloud_Cover  UV_Index\n",
       "0    01     0.369325  2.626181\n",
       "1    02     0.373507  3.857355\n",
       "2    03     0.428527  5.541892\n",
       "3    04     0.322033  7.633242\n",
       "4    05     0.408016  8.152174"
      ]
     },
     "execution_count": 82,
     "metadata": {},
     "output_type": "execute_result"
    }
   ],
   "source": [
    "top_25 = happiness_cities_new.loc[happiness_cities_new.Rank<26].reset_index(drop=True)\n",
    "top_25_df = top_25.groupby([\"Month\"])[\"Cloud_Cover\", \"UV_Index\"].mean().reset_index()\n",
    "top_25_df.head()"
   ]
  },
  {
   "cell_type": "code",
   "execution_count": 27,
   "metadata": {},
   "outputs": [
    {
     "data": {
      "text/html": [
       "<div>\n",
       "<style scoped>\n",
       "    .dataframe tbody tr th:only-of-type {\n",
       "        vertical-align: middle;\n",
       "    }\n",
       "\n",
       "    .dataframe tbody tr th {\n",
       "        vertical-align: top;\n",
       "    }\n",
       "\n",
       "    .dataframe thead th {\n",
       "        text-align: right;\n",
       "    }\n",
       "</style>\n",
       "<table border=\"1\" class=\"dataframe\">\n",
       "  <thead>\n",
       "    <tr style=\"text-align: right;\">\n",
       "      <th></th>\n",
       "      <th>Month</th>\n",
       "      <th>Cloud_Cover</th>\n",
       "      <th>UV_Index</th>\n",
       "    </tr>\n",
       "  </thead>\n",
       "  <tbody>\n",
       "    <tr>\n",
       "      <td>0</td>\n",
       "      <td>01</td>\n",
       "      <td>0.451757</td>\n",
       "      <td>2.587855</td>\n",
       "    </tr>\n",
       "    <tr>\n",
       "      <td>1</td>\n",
       "      <td>02</td>\n",
       "      <td>0.669174</td>\n",
       "      <td>3.397436</td>\n",
       "    </tr>\n",
       "    <tr>\n",
       "      <td>2</td>\n",
       "      <td>03</td>\n",
       "      <td>0.476688</td>\n",
       "      <td>5.331177</td>\n",
       "    </tr>\n",
       "    <tr>\n",
       "      <td>3</td>\n",
       "      <td>04</td>\n",
       "      <td>0.471507</td>\n",
       "      <td>6.881333</td>\n",
       "    </tr>\n",
       "    <tr>\n",
       "      <td>4</td>\n",
       "      <td>05</td>\n",
       "      <td>0.404465</td>\n",
       "      <td>8.029677</td>\n",
       "    </tr>\n",
       "  </tbody>\n",
       "</table>\n",
       "</div>"
      ],
      "text/plain": [
       "  Month  Cloud_Cover  UV_Index\n",
       "0    01     0.451757  2.587855\n",
       "1    02     0.669174  3.397436\n",
       "2    03     0.476688  5.331177\n",
       "3    04     0.471507  6.881333\n",
       "4    05     0.404465  8.029677"
      ]
     },
     "execution_count": 27,
     "metadata": {},
     "output_type": "execute_result"
    }
   ],
   "source": [
    "bottom_25 = happiness_cities_new.loc[happiness_cities_new.Rank>157].reset_index(drop=True)\n",
    "bottom_25_df = bottom_25.groupby([\"Month\"])[\"Cloud_Cover\", \"UV_Index\"].mean().reset_index()\n",
    "bottom_25_df.head()"
   ]
  },
  {
   "cell_type": "code",
   "execution_count": 83,
   "metadata": {},
   "outputs": [],
   "source": [
    "months = [\"Jan\", \"Feb\", \"Mar\", \"Apr\", \"May\", \"Jun\", \"Jul\", \"Aug\", \"Sep\", \"Oct\", \"Nov\", \"Dec\"]"
   ]
  },
  {
   "cell_type": "code",
   "execution_count": 79,
   "metadata": {
    "scrolled": true
   },
   "outputs": [
    {
     "data": {
      "image/png": "[encoded data removed]",
      "text/plain": [
       "<Figure size 1440x720 with 1 Axes>"
      ]
     },
     "metadata": {
      "needs_background": "light"
     },
     "output_type": "display_data"
    }
   ],
   "source": [
    "# Create Bar Graph for Average Cloud Coverage per Month\n",
    "width = 1/2\n",
    "\n",
    "indices=top_25_df.index\n",
    "fig=plt.figure(figsize=(20,10))\n",
    "ax = fig.add_subplot(111)\n",
    "\n",
    "width = np.min(np.diff(indices))/3\n",
    "\n",
    "ax.bar(indices-width, top_25_df.Cloud_Cover, width, color=\"orange\", label=\"Top 25 Happiest Cities\")\n",
    "ax.bar(indices, bottom_25_df.Cloud_Cover, width, color=\"lightgreen\", label=\"Bottom 25 Happiest Cities\")\n",
    "\n",
    "plt.title(\"Average Cloud Coverage per Month\", weight=\"bold\", fontsize=20)\n",
    "plt.xlabel(\"Month\", fontsize=16)\n",
    "plt.ylabel(\"Cloud Coverage(%)\", fontsize=16)\n",
    "\n",
    "plt.xticks(indices, months, fontsize=14)\n",
    "\n",
    "plt.legend(loc=\"best\", fontsize=16)\n",
    "\n",
    "plt.grid(axis=\"y\", color=\"lightgrey\")\n",
    "\n",
    "plt.savefig(\"Avg_Cloud_Cover_per_Month.png\")"
   ]
  },
  {
   "cell_type": "code",
   "execution_count": 37,
   "metadata": {
    "collapsed": true
   },
   "outputs": [],
   "source": [
    "import scipy.stats as stats"
   ]
  },
  {
   "cell_type": "code",
   "execution_count": 34,
   "metadata": {},
   "outputs": [
    {
     "name": "stdout",
     "output_type": "stream",
     "text": [
      "0.3685336765414328\n",
      "0.002699984416711956\n"
     ]
    }
   ],
   "source": [
    "print(top_25_df.Cloud_Cover.mean())\n",
    "print(top_25_df.Cloud_Cover.var())"
   ]
  },
  {
   "cell_type": "code",
   "execution_count": 35,
   "metadata": {
    "scrolled": true
   },
   "outputs": [
    {
     "name": "stdout",
     "output_type": "stream",
     "text": [
      "0.47502815633232526\n",
      "0.008516390027030538\n"
     ]
    }
   ],
   "source": [
    "print(bottom_25_df.Cloud_Cover.mean())\n",
    "print(bottom_25_df.Cloud_Cover.var())"
   ]
  },
  {
   "cell_type": "code",
   "execution_count": 38,
   "metadata": {},
   "outputs": [
    {
     "data": {
      "text/plain": [
       "Ttest_indResult(statistic=-3.483304732696815, pvalue=0.002777044194408711)"
      ]
     },
     "execution_count": 38,
     "metadata": {},
     "output_type": "execute_result"
    }
   ],
   "source": [
    "# Calculate Independent (Two Sample) T-Test\n",
    "stats.ttest_ind(top_25_df.Cloud_Cover, bottom_25_df.Cloud_Cover, equal_var=False)"
   ]
  },
  {
   "cell_type": "code",
   "execution_count": 80,
   "metadata": {
    "scrolled": false
   },
   "outputs": [
    {
     "data": {
      "image/png": "[encoded data removed]",
      "text/plain": [
       "<Figure size 1440x720 with 1 Axes>"
      ]
     },
     "metadata": {
      "needs_background": "light"
     },
     "output_type": "display_data"
    }
   ],
   "source": [
    "# Create Bar Graph for Average UV Index per Month\n",
    "width = 1/2\n",
    "\n",
    "indices=top_25_df.index\n",
    "\n",
    "fig=plt.figure(figsize=(20,10))\n",
    "ax = fig.add_subplot(111)\n",
    "\n",
    "width = np.min(np.diff(indices))/3\n",
    "\n",
    "ax.bar(indices-width, top_25_df.UV_Index, width, color=\"orange\", label=\"Top 25 Happiest Cities\")\n",
    "ax.bar(indices, bottom_25_df.UV_Index, width, color=\"lightgreen\", label=\"Bottom 25 Happiest Cities\")\n",
    "\n",
    "plt.title(\"Average UV Index per Month\", weight=\"bold\", fontsize=20)\n",
    "plt.xlabel(\"Month\", fontsize=16)\n",
    "plt.ylabel(\"UV Index\", fontsize=16)\n",
    "\n",
    "plt.xticks(indices, months, fontsize=14)\n",
    "\n",
    "plt.legend(loc=\"best\", fontsize=16)\n",
    "\n",
    "plt.grid(axis=\"y\", color=\"lightgrey\")\n",
    "\n",
    "plt.savefig(\"Avg_UV_Index_per_Month.png\")"
   ]
  },
  {
   "cell_type": "code",
   "execution_count": 69,
   "metadata": {},
   "outputs": [
    {
     "name": "stdout",
     "output_type": "stream",
     "text": [
      "5.926040162056251\n",
      "6.416721701743288\n"
     ]
    }
   ],
   "source": [
    "print(top_25_df.UV_Index.mean())\n",
    "print(top_25_df.UV_Index.var())"
   ]
  },
  {
   "cell_type": "code",
   "execution_count": 70,
   "metadata": {},
   "outputs": [
    {
     "name": "stdout",
     "output_type": "stream",
     "text": [
      "5.428738649876757\n",
      "5.06602185040451\n"
     ]
    }
   ],
   "source": [
    "print(bottom_25_df.UV_Index.mean())\n",
    "print(bottom_25_df.UV_Index.var())"
   ]
  },
  {
   "cell_type": "code",
   "execution_count": 71,
   "metadata": {},
   "outputs": [
    {
     "data": {
      "text/plain": [
       "Ttest_indResult(statistic=0.5083789619358664, pvalue=0.6163171775715099)"
      ]
     },
     "execution_count": 71,
     "metadata": {},
     "output_type": "execute_result"
    }
   ],
   "source": [
    "# Calculate Independent (Two Sample) T-Test\n",
    "stats.ttest_ind(top_25_df.UV_Index, bottom_25_df.UV_Index, equal_var=False)"
   ]
  },
  {
   "cell_type": "code",
   "execution_count": 84,
   "metadata": {},
   "outputs": [
    {
     "data": {
      "text/html": [
       "<div>\n",
       "<style scoped>\n",
       "    .dataframe tbody tr th:only-of-type {\n",
       "        vertical-align: middle;\n",
       "    }\n",
       "\n",
       "    .dataframe tbody tr th {\n",
       "        vertical-align: top;\n",
       "    }\n",
       "\n",
       "    .dataframe thead th {\n",
       "        text-align: right;\n",
       "    }\n",
       "</style>\n",
       "<table border=\"1\" class=\"dataframe\">\n",
       "  <thead>\n",
       "    <tr style=\"text-align: right;\">\n",
       "      <th></th>\n",
       "      <th>Month</th>\n",
       "      <th>Icon</th>\n",
       "    </tr>\n",
       "  </thead>\n",
       "  <tbody>\n",
       "    <tr>\n",
       "      <td>0</td>\n",
       "      <td>01</td>\n",
       "      <td>251</td>\n",
       "    </tr>\n",
       "    <tr>\n",
       "      <td>1</td>\n",
       "      <td>02</td>\n",
       "      <td>205</td>\n",
       "    </tr>\n",
       "    <tr>\n",
       "      <td>2</td>\n",
       "      <td>03</td>\n",
       "      <td>194</td>\n",
       "    </tr>\n",
       "    <tr>\n",
       "      <td>3</td>\n",
       "      <td>04</td>\n",
       "      <td>265</td>\n",
       "    </tr>\n",
       "    <tr>\n",
       "      <td>4</td>\n",
       "      <td>05</td>\n",
       "      <td>200</td>\n",
       "    </tr>\n",
       "  </tbody>\n",
       "</table>\n",
       "</div>"
      ],
      "text/plain": [
       "  Month  Icon\n",
       "0    01   251\n",
       "1    02   205\n",
       "2    03   194\n",
       "3    04   265\n",
       "4    05   200"
      ]
     },
     "execution_count": 84,
     "metadata": {},
     "output_type": "execute_result"
    }
   ],
   "source": [
    "top_25_icon = top_25[top_25[\"Icon\"] == 'clear-day']\n",
    "top_25_icon_df = top_25_icon.groupby([\"Month\"])[\"Icon\"].count().reset_index()\n",
    "top_25_icon_df.head()"
   ]
  },
  {
   "cell_type": "code",
   "execution_count": 85,
   "metadata": {},
   "outputs": [
    {
     "data": {
      "text/html": [
       "<div>\n",
       "<style scoped>\n",
       "    .dataframe tbody tr th:only-of-type {\n",
       "        vertical-align: middle;\n",
       "    }\n",
       "\n",
       "    .dataframe tbody tr th {\n",
       "        vertical-align: top;\n",
       "    }\n",
       "\n",
       "    .dataframe thead th {\n",
       "        text-align: right;\n",
       "    }\n",
       "</style>\n",
       "<table border=\"1\" class=\"dataframe\">\n",
       "  <thead>\n",
       "    <tr style=\"text-align: right;\">\n",
       "      <th></th>\n",
       "      <th>Month</th>\n",
       "      <th>Icon</th>\n",
       "    </tr>\n",
       "  </thead>\n",
       "  <tbody>\n",
       "    <tr>\n",
       "      <td>0</td>\n",
       "      <td>01</td>\n",
       "      <td>222</td>\n",
       "    </tr>\n",
       "    <tr>\n",
       "      <td>1</td>\n",
       "      <td>02</td>\n",
       "      <td>40</td>\n",
       "    </tr>\n",
       "    <tr>\n",
       "      <td>2</td>\n",
       "      <td>03</td>\n",
       "      <td>188</td>\n",
       "    </tr>\n",
       "    <tr>\n",
       "      <td>3</td>\n",
       "      <td>04</td>\n",
       "      <td>192</td>\n",
       "    </tr>\n",
       "    <tr>\n",
       "      <td>4</td>\n",
       "      <td>05</td>\n",
       "      <td>169</td>\n",
       "    </tr>\n",
       "  </tbody>\n",
       "</table>\n",
       "</div>"
      ],
      "text/plain": [
       "  Month  Icon\n",
       "0    01   222\n",
       "1    02    40\n",
       "2    03   188\n",
       "3    04   192\n",
       "4    05   169"
      ]
     },
     "execution_count": 85,
     "metadata": {},
     "output_type": "execute_result"
    }
   ],
   "source": [
    "bottom_25_icon = bottom_25[bottom_25[\"Icon\"] == 'clear-day']\n",
    "bottom_25_icon_df = bottom_25_icon.groupby([\"Month\"])[\"Icon\"].count().reset_index()\n",
    "bottom_25_icon_df.head()"
   ]
  },
  {
   "cell_type": "code",
   "execution_count": 81,
   "metadata": {
    "scrolled": false
   },
   "outputs": [
    {
     "data": {
      "image/png": "[encoded data removed]",
      "text/plain": [
       "<Figure size 1440x720 with 1 Axes>"
      ]
     },
     "metadata": {
      "needs_background": "light"
     },
     "output_type": "display_data"
    }
   ],
   "source": [
    "# Create Bar Graph for Average Cloud Coverage per Month\n",
    "width = 1/2\n",
    "\n",
    "indices=top_25_icon_df.index\n",
    "\n",
    "fig=plt.figure(figsize=(20,10))\n",
    "ax = fig.add_subplot(111)\n",
    "\n",
    "width = np.min(np.diff(indices))/3\n",
    "\n",
    "ax.bar(indices-width, top_25_icon_df.Icon, width, color=\"orange\", label=\"Top 25 Happiest Cities\")\n",
    "ax.bar(indices, bottom_25_icon_df.Icon, width, color=\"lightgreen\", label=\"Bottom 25 Happiest Cities\")\n",
    "\n",
    "plt.title(\"Number of Clear Days per Month\", weight=\"bold\", fontsize=20)\n",
    "plt.xlabel(\"Month\", fontsize=16)\n",
    "plt.ylabel(\"Count Clear Days\", fontsize=16)\n",
    "\n",
    "plt.xticks(indices, months, fontsize=14)\n",
    "\n",
    "plt.legend(loc=\"best\", fontsize=16)\n",
    "\n",
    "plt.grid(axis=\"y\", color=\"lightgrey\")\n",
    "\n",
    "plt.savefig(\"Number_Clear_Days_per_Month.png\")"
   ]
  },
  {
   "cell_type": "code",
   "execution_count": 72,
   "metadata": {},
   "outputs": [
    {
     "name": "stdout",
     "output_type": "stream",
     "text": [
      "216.08333333333334\n",
      "530.2651515151516\n"
     ]
    }
   ],
   "source": [
    "print(top_25_icon_df.Icon.mean())\n",
    "print(top_25_icon_df.Icon.var())"
   ]
  },
  {
   "cell_type": "code",
   "execution_count": 73,
   "metadata": {},
   "outputs": [
    {
     "name": "stdout",
     "output_type": "stream",
     "text": [
      "143.0\n",
      "2491.6363636363635\n"
     ]
    }
   ],
   "source": [
    "print(bottom_25_icon_df.Icon.mean())\n",
    "print(bottom_25_icon_df.Icon.var())"
   ]
  },
  {
   "cell_type": "code",
   "execution_count": 74,
   "metadata": {},
   "outputs": [
    {
     "data": {
      "text/plain": [
       "Ttest_indResult(statistic=4.6054154876791245, pvalue=0.0003174342518510019)"
      ]
     },
     "execution_count": 74,
     "metadata": {},
     "output_type": "execute_result"
    }
   ],
   "source": [
    "# Calculate Independent (Two Sample) T-Test\n",
    "stats.ttest_ind(top_25_icon_df.Icon, bottom_25_icon_df.Icon, equal_var=False)"
   ]
  }
 ],
 "metadata": {
  "kernelspec": {
   "display_name": "Python 3",
   "language": "python",
   "name": "python3"
  },
  "language_info": {
   "codemirror_mode": {
    "name": "ipython",
    "version": 3
   },
   "file_extension": ".py",
   "mimetype": "text/x-python",
   "name": "python",
   "nbconvert_exporter": "python",
   "pygments_lexer": "ipython3",
   "version": "3.6.9"
  }
 },
 "nbformat": 4,
 "nbformat_minor": 2
}
